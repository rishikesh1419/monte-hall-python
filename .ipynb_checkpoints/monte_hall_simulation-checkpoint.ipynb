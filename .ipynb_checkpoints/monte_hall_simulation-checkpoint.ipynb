{
 "cells": [
  {
   "cell_type": "code",
   "execution_count": 1,
   "id": "281dab2d",
   "metadata": {},
   "outputs": [],
   "source": [
    "import random\n",
    "from tabulate import tabulate"
   ]
  },
  {
   "cell_type": "code",
   "execution_count": 4,
   "id": "c9a97276",
   "metadata": {},
   "outputs": [],
   "source": [
    "def get_door(real_door, player_door):\n",
    "    for i in range(0, 3):\n",
    "        if i != player_door and i != real_door:\n",
    "            return i"
   ]
  },
  {
   "cell_type": "code",
   "execution_count": 8,
   "id": "685a1a50",
   "metadata": {},
   "outputs": [
    {
     "name": "stdout",
     "output_type": "stream",
     "text": [
      "Wins: 3385\n",
      "Losses: 6615\n",
      "%win 0.3385\n"
     ]
    }
   ],
   "source": [
    "win = 0\n",
    "loss = 0\n",
    "for i in range(10000):\n",
    "    real_door = random.randint(0, 2)\n",
    "    player_door = random.randint(0, 2)\n",
    "    opened_door = get_door(real_door, player_door)\n",
    "    if player_door == real_door:\n",
    "        win = win + 1\n",
    "    else:\n",
    "        loss = loss + 1\n",
    "\n",
    "print(\"Wins:\", win)\n",
    "print(\"Losses:\", loss)\n",
    "print(\"%win\", win/(win+loss))"
   ]
  },
  {
   "cell_type": "code",
   "execution_count": 9,
   "id": "561873d7",
   "metadata": {},
   "outputs": [
    {
     "name": "stdout",
     "output_type": "stream",
     "text": [
      "Wins: 6658\n",
      "Losses: 3342\n",
      "%win 0.6658\n"
     ]
    }
   ],
   "source": [
    "win = 0\n",
    "loss = 0\n",
    "for i in range(10000):\n",
    "    real_door = random.randint(0, 2)\n",
    "    player_door = random.randint(0, 2)\n",
    "    opened_door = get_door(real_door, player_door)\n",
    "    if player_door != real_door:\n",
    "        win = win + 1\n",
    "    else:\n",
    "        loss = loss + 1\n",
    "\n",
    "print(\"Wins:\", win)\n",
    "print(\"Losses:\", loss)\n",
    "print(\"%win\", win/(win+loss))"
   ]
  },
  {
   "cell_type": "code",
   "execution_count": null,
   "id": "fb71d0de",
   "metadata": {},
   "outputs": [],
   "source": []
  }
 ],
 "metadata": {
  "kernelspec": {
   "display_name": "Python 3 (ipykernel)",
   "language": "python",
   "name": "python3"
  },
  "language_info": {
   "codemirror_mode": {
    "name": "ipython",
    "version": 3
   },
   "file_extension": ".py",
   "mimetype": "text/x-python",
   "name": "python",
   "nbconvert_exporter": "python",
   "pygments_lexer": "ipython3",
   "version": "3.9.0"
  }
 },
 "nbformat": 4,
 "nbformat_minor": 5
}
